{
 "cells": [
  {
   "cell_type": "code",
   "execution_count": 1,
   "metadata": {},
   "outputs": [
    {
     "name": "stdout",
     "output_type": "stream",
     "text": [
      "/home/procastinator/gConvNet-ActionRecognition/data\n"
     ]
    }
   ],
   "source": [
    "cd data"
   ]
  },
  {
   "cell_type": "code",
   "execution_count": 2,
   "metadata": {},
   "outputs": [],
   "source": [
    "import ntuloader\n",
    "loader_class = ntuloader.NTULoader\n",
    "split_dir = '/home/procastinator/Datasets/RGBD/NTURGB+D/stgcn/xsub'\n",
    "window_size = 300\n",
    "\n",
    "# Check if the transforms are working in the loader\n",
    "transforms = ['RandomAffineTransformAcrossTime']\n",
    "transform_args = dict(angle_choices=[-10., -5., 0, 5., 10.], scale_choices=[0.9, 1.0, 1.1],\n",
    "translate_choices=[-0.2, -0.1, 0.0, 0.1, 0.2], tsmoothness_choices=[1])\n",
    "\n",
    "# Check if the different signals are working in the loader\n",
    "signals = dict(temporal_signal=False, spatial_signal=True, all_signal=False)\n",
    "\n",
    "loader = loader_class(split_dir=split_dir, transforms=transforms, transform_args=transform_args,\n",
    "                      signals=signals, window_size=window_size)"
   ]
  },
  {
   "cell_type": "code",
   "execution_count": 3,
   "metadata": {},
   "outputs": [
    {
     "name": "stdout",
     "output_type": "stream",
     "text": [
      "torch.Size([8, 24, 300, 25, 2])\n",
      "torch.Size([8, 24, 300, 25, 2])\n",
      "torch.Size([8, 24, 300, 25, 2])\n",
      "torch.Size([8, 24, 300, 25, 2])\n",
      "torch.Size([8, 24, 300, 25, 2])\n",
      "torch.Size([8, 24, 300, 25, 2])\n",
      "torch.Size([8, 24, 300, 25, 2])\n",
      "torch.Size([8, 24, 300, 25, 2])\n",
      "torch.Size([8, 24, 300, 25, 2])\n",
      "torch.Size([8, 24, 300, 25, 2])\n",
      "torch.Size([8, 24, 300, 25, 2])\n"
     ]
    }
   ],
   "source": [
    "import torch\n",
    "from torch.utils.data import DataLoader\n",
    "dataloader = DataLoader(loader, batch_size=8, shuffle=True, pin_memory=True)\n",
    "\n",
    "# Check if the data loader is working as required\n",
    "for i, (data, label) in enumerate(dataloader):\n",
    "    print data.shape\n",
    "    if i == 10:\n",
    "        break"
   ]
  },
  {
   "cell_type": "code",
   "execution_count": null,
   "metadata": {
    "collapsed": true
   },
   "outputs": [],
   "source": []
  }
 ],
 "metadata": {
  "kernelspec": {
   "display_name": "Python 2",
   "language": "python",
   "name": "python2"
  },
  "language_info": {
   "codemirror_mode": {
    "name": "ipython",
    "version": 2
   },
   "file_extension": ".py",
   "mimetype": "text/x-python",
   "name": "python",
   "nbconvert_exporter": "python",
   "pygments_lexer": "ipython2",
   "version": "2.7.12"
  }
 },
 "nbformat": 4,
 "nbformat_minor": 2
}
