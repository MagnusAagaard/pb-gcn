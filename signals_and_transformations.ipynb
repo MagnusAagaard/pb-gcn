{
 "cells": [
  {
   "cell_type": "code",
   "execution_count": 1,
   "metadata": {},
   "outputs": [],
   "source": [
    "import numpy as np"
   ]
  },
  {
   "cell_type": "code",
   "execution_count": 2,
   "metadata": {
    "collapsed": true
   },
   "outputs": [],
   "source": [
    "# The dimensions of a single possible video sample\n",
    "inp = np.random.random((3, 86, 25, 2))\n",
    "# The padded video sample\n",
    "pad = np.zeros((3, 150, 25, 2))\n",
    "pad[:, :86, :, :] = inp\n",
    "# Keep this copy to check if the output and input differ\n",
    "# (transformation or signal application successful or not)\n",
    "back = pad.copy()"
   ]
  },
  {
   "cell_type": "code",
   "execution_count": 3,
   "metadata": {},
   "outputs": [
    {
     "name": "stdout",
     "output_type": "stream",
     "text": [
      "/home/procastinator/gConvNet-ActionRecognition/data/signals\n"
     ]
    }
   ],
   "source": [
    "cd data/signals"
   ]
  },
  {
   "cell_type": "code",
   "execution_count": 4,
   "metadata": {},
   "outputs": [],
   "source": [
    "from orient_disps import get_oriented_displacements as god\n",
    "from disps import get_displacements as gd\n",
    "from rel_coords import get_relative_coordinates as grc\n",
    "from rel_angles import get_relative_coordinate_angles as grca"
   ]
  },
  {
   "cell_type": "code",
   "execution_count": 5,
   "metadata": {},
   "outputs": [
    {
     "name": "stdout",
     "output_type": "stream",
     "text": [
      "(3, 150, 25, 2)\n",
      "-3.7543955290716964\n",
      "0.44356096702769787\n"
     ]
    }
   ],
   "source": [
    "# Check the oriented displacements signal\n",
    "pad = back.copy()\n",
    "out = god(pad)\n",
    "print out.shape\n",
    "\n",
    "print out[0, 1, 0, 1]\n",
    "print back[0, 1, 0, 1]"
   ]
  },
  {
   "cell_type": "code",
   "execution_count": 6,
   "metadata": {},
   "outputs": [
    {
     "name": "stdout",
     "output_type": "stream",
     "text": [
      "(3, 150, 25, 2)\n",
      "0.3650338912273088\n",
      "0.44356096702769787\n"
     ]
    }
   ],
   "source": [
    "# Check the simple displacements signal\n",
    "pad = back.copy()\n",
    "out = gd(pad)\n",
    "print out.shape\n",
    "\n",
    "print out[0, 1, 0, 1]\n",
    "print back[0, 1, 0, 1]"
   ]
  },
  {
   "cell_type": "code",
   "execution_count": 7,
   "metadata": {},
   "outputs": [
    {
     "name": "stdout",
     "output_type": "stream",
     "text": [
      "(12, 150, 25, 2)\n",
      "-0.3649960370817569\n",
      "0.44356096702769787\n"
     ]
    }
   ],
   "source": [
    "# Check the relative coordinates (wrt shoulders and hips) signal\n",
    "pad = back.copy()\n",
    "out = grc(pad)\n",
    "print out.shape\n",
    "\n",
    "print out[0, 1, 0, 1]\n",
    "print back[0, 1, 0, 1]"
   ]
  },
  {
   "cell_type": "code",
   "execution_count": 8,
   "metadata": {},
   "outputs": [
    {
     "name": "stdout",
     "output_type": "stream",
     "text": [
      "(12, 150, 25, 2)\n",
      "-152.73076901129437\n",
      "0.44356096702769787\n"
     ]
    }
   ],
   "source": [
    "# Check the relative angles (wrt shoulders and hips) signal\n",
    "pad = back.copy()\n",
    "out = grca(pad)\n",
    "print out.shape\n",
    "\n",
    "print out[0, 1, 0, 1]\n",
    "print back[0, 1, 0, 1]"
   ]
  },
  {
   "cell_type": "code",
   "execution_count": 9,
   "metadata": {},
   "outputs": [
    {
     "name": "stdout",
     "output_type": "stream",
     "text": [
      "/home/procastinator/gConvNet-ActionRecognition/data\n"
     ]
    }
   ],
   "source": [
    "cd .."
   ]
  },
  {
   "cell_type": "code",
   "execution_count": 10,
   "metadata": {},
   "outputs": [],
   "source": [
    "from utils import *"
   ]
  },
  {
   "cell_type": "code",
   "execution_count": 11,
   "metadata": {},
   "outputs": [
    {
     "name": "stdout",
     "output_type": "stream",
     "text": [
      "(3, 100, 25, 2)\n"
     ]
    }
   ],
   "source": [
    "# Random continuous temporal slice taken from the input video\n",
    "# Checking the output shape is enough here\n",
    "pad = back.copy()\n",
    "args = dict(sample=pad, window_size=100)\n",
    "out = RandomTemporalCrop(**args)\n",
    "print out.shape"
   ]
  },
  {
   "cell_type": "code",
   "execution_count": 12,
   "metadata": {},
   "outputs": [
    {
     "name": "stdout",
     "output_type": "stream",
     "text": [
      "(3, 100, 25, 2)\n"
     ]
    }
   ],
   "source": [
    "# Random picking of frames from the input frames of video\n",
    "pad = back.copy()\n",
    "args = dict(sample=pad, num_samples=100)\n",
    "out = RandomTemporalSampling(**args)\n",
    "print out.shape"
   ]
  },
  {
   "cell_type": "code",
   "execution_count": 13,
   "metadata": {},
   "outputs": [
    {
     "name": "stdout",
     "output_type": "stream",
     "text": [
      "(3, 150, 25, 2)\n"
     ]
    }
   ],
   "source": [
    "# Pad the input sequence with zeros to make it of given size\n",
    "val = inp.copy()\n",
    "args = dict(sample=val, size=150)\n",
    "out = PadSequence(**args)\n",
    "print out.shape"
   ]
  },
  {
   "cell_type": "code",
   "execution_count": 14,
   "metadata": {},
   "outputs": [
    {
     "name": "stdout",
     "output_type": "stream",
     "text": [
      "(3, 150, 25, 2)\n",
      "0.33364510358834865\n",
      "0.44356096702769787\n"
     ]
    }
   ],
   "source": [
    "# Random Affine Transformation applied across time (here one transform is applied to all frames)\n",
    "pad = back.copy()\n",
    "args = dict(sample=pad, angle_choices=[-10., -5., 0, 5., 10.], scale_choices=[0.9, 1.0, 1.1],\n",
    "translate_choices=[-0.2, -0.1, 0.0, 0.1, 0.2], tsmoothness_choices=[1])\n",
    "out = RandomAffineTransformAcrossTime(**args)\n",
    "print out.shape\n",
    "\n",
    "print out[0, 1, 0, 1]\n",
    "print back[0, 1, 0, 1]"
   ]
  },
  {
   "cell_type": "code",
   "execution_count": 15,
   "metadata": {},
   "outputs": [
    {
     "name": "stdout",
     "output_type": "stream",
     "text": [
      "(3, 150, 25, 2)\n",
      "0.0\n",
      "0.44356096702769787\n"
     ]
    }
   ],
   "source": [
    "# Random shifting of the input video frames (choosing a random offset)\n",
    "pad = back.copy()\n",
    "args = dict(sample=pad)\n",
    "out = RandomTemporalShift(**args)\n",
    "print out.shape\n",
    "\n",
    "print out[0, 1, 0, 1]\n",
    "print back[0, 1, 0, 1]"
   ]
  },
  {
   "cell_type": "code",
   "execution_count": 16,
   "metadata": {},
   "outputs": [
    {
     "name": "stdout",
     "output_type": "stream",
     "text": [
      "(3, 150, 25, 2)\n",
      "0.4429701835942012\n",
      "0.44356096702769787\n"
     ]
    }
   ],
   "source": [
    "# Random gaussian noise to be added to the coordinates (to make it robust to noise)\n",
    "pad = back.copy()\n",
    "args = dict(sample=pad, mean_choices=[0., -0.1, 0.1], sigma_choices=[0.1, 0.2],\n",
    "noise_level_choices=[0.002, 0.004, 0.005])\n",
    "out = RandomGaussianNoise(**args)\n",
    "print out.shape\n",
    "\n",
    "print out[0, 1, 0, 1]\n",
    "print back[0, 1, 0, 1]"
   ]
  },
  {
   "cell_type": "code",
   "execution_count": null,
   "metadata": {
    "collapsed": true
   },
   "outputs": [],
   "source": []
  }
 ],
 "metadata": {
  "kernelspec": {
   "display_name": "Python 2",
   "language": "python",
   "name": "python2"
  },
  "language_info": {
   "codemirror_mode": {
    "name": "ipython",
    "version": 2
   },
   "file_extension": ".py",
   "mimetype": "text/x-python",
   "name": "python",
   "nbconvert_exporter": "python",
   "pygments_lexer": "ipython2",
   "version": "2.7.12"
  }
 },
 "nbformat": 4,
 "nbformat_minor": 2
}
