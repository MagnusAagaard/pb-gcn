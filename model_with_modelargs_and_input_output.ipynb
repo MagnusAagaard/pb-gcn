{
 "cells": [
  {
   "cell_type": "code",
   "execution_count": 1,
   "metadata": {},
   "outputs": [
    {
     "name": "stdout",
     "output_type": "stream",
     "text": [
      "/home/procastinator/gConvNet-ActionRecognition/models\n"
     ]
    }
   ],
   "source": [
    "cd models"
   ]
  },
  {
   "cell_type": "code",
   "execution_count": 2,
   "metadata": {
    "collapsed": true
   },
   "outputs": [],
   "source": [
    "import torch\n",
    "from torch.autograd import Variable"
   ]
  },
  {
   "cell_type": "code",
   "execution_count": 3,
   "metadata": {},
   "outputs": [],
   "source": [
    "from st_gconv_resnet import STGraphConvResnet as ST_GCN"
   ]
  },
  {
   "cell_type": "code",
   "execution_count": 4,
   "metadata": {},
   "outputs": [],
   "source": [
    "model_args = dict(\n",
    "    channel=3,\n",
    "    num_class=60,\n",
    "    window_size=300,\n",
    "    num_joints=25,\n",
    "    num_actors=2,\n",
    "    use_data_bn=False,\n",
    "    layers_config=[(64, 64, 1), (64, 64, 1), (64, 64, 1), (64, 128, 2), (128, 128, 1), \n",
    "      (128, 128, 1), (128, 256, 2), (256, 256, 1), (256, 256, 1)],\n",
    "    graph='NTUGraph',\n",
    "    graph_args=dict(\n",
    "        labeling_mode='parts'\n",
    "    ),\n",
    "    mask_learning=False,\n",
    "    use_local_bn=False,\n",
    "    multiscale=False,\n",
    "    temporal_kernel_size=9,\n",
    "    dropout=0.5\n",
    ")\n",
    "\n",
    "# Create model and move it to the GPU\n",
    "model = ST_GCN(**model_args)\n",
    "model = torch.nn.DataParallel(model, device_ids=[0])"
   ]
  },
  {
   "cell_type": "code",
   "execution_count": 5,
   "metadata": {},
   "outputs": [
    {
     "name": "stdout",
     "output_type": "stream",
     "text": [
      "(1, 60)\n"
     ]
    }
   ],
   "source": [
    "import numpy as np\n",
    "# Only 1 batch size as the GPU I am testing on has small amount of memory\n",
    "x = np.random.random((1, 3, 300, 25, 2))\n",
    "\n",
    "x = torch.from_numpy(np.float32(x))\n",
    "x = Variable(x.cuda(0), requires_grad=False)\n",
    "\n",
    "out = model(x)\n",
    "print out.data.cpu().numpy().shape"
   ]
  }
 ],
 "metadata": {
  "kernelspec": {
   "display_name": "Python 2",
   "language": "python",
   "name": "python2"
  },
  "language_info": {
   "codemirror_mode": {
    "name": "ipython",
    "version": 2
   },
   "file_extension": ".py",
   "mimetype": "text/x-python",
   "name": "python",
   "nbconvert_exporter": "python",
   "pygments_lexer": "ipython2",
   "version": "2.7.12"
  }
 },
 "nbformat": 4,
 "nbformat_minor": 2
}
